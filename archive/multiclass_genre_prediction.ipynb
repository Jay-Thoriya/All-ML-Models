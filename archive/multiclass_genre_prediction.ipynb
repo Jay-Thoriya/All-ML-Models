{
 "cells": [
  {
   "cell_type": "code",
   "execution_count": 9,
   "metadata": {},
   "outputs": [],
   "source": [
    "import pandas as pd\n",
    "import numpy as np"
   ]
  },
  {
   "cell_type": "code",
   "execution_count": 10,
   "metadata": {},
   "outputs": [],
   "source": [
    "import os"
   ]
  },
  {
   "cell_type": "code",
   "execution_count": 11,
   "metadata": {},
   "outputs": [
    {
     "name": "stdout",
     "output_type": "stream",
     "text": [
      "Action.csv\n",
      "Adventure.csv\n",
      "Animation.csv\n",
      "Biography.csv\n",
      "Comedy.csv\n",
      "Crime.csv\n",
      "Drama.csv\n",
      "Fantasy.csv\n",
      "History.csv\n",
      "Horror.csv\n",
      "Music.csv\n",
      "Mystery.csv\n",
      "Romance.csv\n",
      "Sci-Fi.csv\n",
      "Sport.csv\n",
      "Thriller.csv\n",
      "War.csv\n"
     ]
    }
   ],
   "source": [
    "directory = '1_movies_per_genre'\n",
    "\n",
    "files = os.listdir(directory)\n",
    "\n",
    "for file in files:\n",
    "    print(file)"
   ]
  },
  {
   "cell_type": "code",
   "execution_count": 12,
   "metadata": {},
   "outputs": [
    {
     "name": "stdout",
     "output_type": "stream",
     "text": [
      "                                                   name  year movie_rated  \\\n",
      "0                                       The Dark Knight  2008       PG-13   \n",
      "1                                             Inception  2010       PG-13   \n",
      "2                                            The Matrix  1999           R   \n",
      "3     The Lord of the Rings: The Fellowship of the Ring  2001       PG-13   \n",
      "4                                 The Dark Knight Rises  2012       PG-13   \n",
      "...                                                 ...   ...         ...   \n",
      "1695                                           Catch-22  1970           R   \n",
      "1696                                     The Great Raid  2005           R   \n",
      "1697                                Saints and Soldiers  2003       PG-13   \n",
      "1698                                          Stop-Loss  2008           R   \n",
      "1699                                          The Alamo  2004       PG-13   \n",
      "\n",
      "     run_length                       genres            release_date  rating  \\\n",
      "0      2h 32min       Action; Crime; Drama;       18 July 2008 (USA)     9.0   \n",
      "1      2h 28min  Action; Adventure; Sci-Fi;       16 July 2010 (USA)     8.8   \n",
      "2      2h 16min             Action; Sci-Fi;      31 March 1999 (USA)     8.7   \n",
      "3      2h 58min   Action; Adventure; Drama;   19 December 2001 (USA)     8.8   \n",
      "4      2h 44min          Action; Adventure;       20 July 2012 (USA)     8.4   \n",
      "...         ...                          ...                     ...     ...   \n",
      "1695    2h 2min         Comedy; Drama; War;       24 June 1970 (USA)     7.1   \n",
      "1696   2h 12min         Action; Drama; War;     12 August 2005 (USA)     6.7   \n",
      "1697   1h 30min         Action; Drama; War;      25 March 2005 (USA)     6.7   \n",
      "1698   1h 52min                 Drama; War;      28 March 2008 (USA)     6.4   \n",
      "1699   2h 17min        Drama; History; War;       9 April 2004 (USA)     6.0   \n",
      "\n",
      "      num_raters  num_reviews  \\\n",
      "0        2224522         6836   \n",
      "1        1981675         3820   \n",
      "2        1619761         4281   \n",
      "3        1609165         5365   \n",
      "4        1470329         2979   \n",
      "...          ...          ...   \n",
      "1695       21424          145   \n",
      "1696       20965          194   \n",
      "1697       19730          163   \n",
      "1698       19456          102   \n",
      "1699       19290          306   \n",
      "\n",
      "                                             review_url  \n",
      "0     https://www.imdb.com/title/tt0468569/reviews/_...  \n",
      "1     https://www.imdb.com/title/tt1375666/reviews/_...  \n",
      "2     https://www.imdb.com/title/tt0133093/reviews/_...  \n",
      "3     https://www.imdb.com/title/tt0120737/reviews/_...  \n",
      "4     https://www.imdb.com/title/tt1345836/reviews/_...  \n",
      "...                                                 ...  \n",
      "1695  https://www.imdb.com/title/tt0065528/reviews/_...  \n",
      "1696  https://www.imdb.com/title/tt0326905/reviews/_...  \n",
      "1697  https://www.imdb.com/title/tt0373283/reviews/_...  \n",
      "1698  https://www.imdb.com/title/tt0489281/reviews/_...  \n",
      "1699  https://www.imdb.com/title/tt0318974/reviews/_...  \n",
      "\n",
      "[1700 rows x 10 columns]\n"
     ]
    }
   ],
   "source": [
    "\n",
    "directory = '1_movies_per_genre'\n",
    "main_dataset = pd.DataFrame()\n",
    "\n",
    "files = os.listdir(directory)\n",
    "\n",
    "for file in files:\n",
    "    file_path = os.path.join(directory, file)\n",
    "    dataset = pd.read_csv(file_path)\n",
    "    main_dataset = pd.concat([main_dataset, dataset], ignore_index=True)\n",
    "\n",
    "print(main_dataset)"
   ]
  },
  {
   "cell_type": "code",
   "execution_count": 13,
   "metadata": {},
   "outputs": [
    {
     "data": {
      "text/html": [
       "<div>\n",
       "<style scoped>\n",
       "    .dataframe tbody tr th:only-of-type {\n",
       "        vertical-align: middle;\n",
       "    }\n",
       "\n",
       "    .dataframe tbody tr th {\n",
       "        vertical-align: top;\n",
       "    }\n",
       "\n",
       "    .dataframe thead th {\n",
       "        text-align: right;\n",
       "    }\n",
       "</style>\n",
       "<table border=\"1\" class=\"dataframe\">\n",
       "  <thead>\n",
       "    <tr style=\"text-align: right;\">\n",
       "      <th></th>\n",
       "      <th>name</th>\n",
       "      <th>year</th>\n",
       "      <th>movie_rated</th>\n",
       "      <th>run_length</th>\n",
       "      <th>genres</th>\n",
       "      <th>release_date</th>\n",
       "      <th>rating</th>\n",
       "      <th>num_raters</th>\n",
       "      <th>num_reviews</th>\n",
       "      <th>review_url</th>\n",
       "    </tr>\n",
       "  </thead>\n",
       "  <tbody>\n",
       "    <tr>\n",
       "      <th>0</th>\n",
       "      <td>The Dark Knight</td>\n",
       "      <td>2008</td>\n",
       "      <td>PG-13</td>\n",
       "      <td>2h 32min</td>\n",
       "      <td>Action; Crime; Drama;</td>\n",
       "      <td>18 July 2008 (USA)</td>\n",
       "      <td>9.0</td>\n",
       "      <td>2224522</td>\n",
       "      <td>6836</td>\n",
       "      <td>https://www.imdb.com/title/tt0468569/reviews/_...</td>\n",
       "    </tr>\n",
       "    <tr>\n",
       "      <th>1</th>\n",
       "      <td>Inception</td>\n",
       "      <td>2010</td>\n",
       "      <td>PG-13</td>\n",
       "      <td>2h 28min</td>\n",
       "      <td>Action; Adventure; Sci-Fi;</td>\n",
       "      <td>16 July 2010 (USA)</td>\n",
       "      <td>8.8</td>\n",
       "      <td>1981675</td>\n",
       "      <td>3820</td>\n",
       "      <td>https://www.imdb.com/title/tt1375666/reviews/_...</td>\n",
       "    </tr>\n",
       "    <tr>\n",
       "      <th>2</th>\n",
       "      <td>The Matrix</td>\n",
       "      <td>1999</td>\n",
       "      <td>R</td>\n",
       "      <td>2h 16min</td>\n",
       "      <td>Action; Sci-Fi;</td>\n",
       "      <td>31 March 1999 (USA)</td>\n",
       "      <td>8.7</td>\n",
       "      <td>1619761</td>\n",
       "      <td>4281</td>\n",
       "      <td>https://www.imdb.com/title/tt0133093/reviews/_...</td>\n",
       "    </tr>\n",
       "    <tr>\n",
       "      <th>3</th>\n",
       "      <td>The Lord of the Rings: The Fellowship of the Ring</td>\n",
       "      <td>2001</td>\n",
       "      <td>PG-13</td>\n",
       "      <td>2h 58min</td>\n",
       "      <td>Action; Adventure; Drama;</td>\n",
       "      <td>19 December 2001 (USA)</td>\n",
       "      <td>8.8</td>\n",
       "      <td>1609165</td>\n",
       "      <td>5365</td>\n",
       "      <td>https://www.imdb.com/title/tt0120737/reviews/_...</td>\n",
       "    </tr>\n",
       "    <tr>\n",
       "      <th>4</th>\n",
       "      <td>The Dark Knight Rises</td>\n",
       "      <td>2012</td>\n",
       "      <td>PG-13</td>\n",
       "      <td>2h 44min</td>\n",
       "      <td>Action; Adventure;</td>\n",
       "      <td>20 July 2012 (USA)</td>\n",
       "      <td>8.4</td>\n",
       "      <td>1470329</td>\n",
       "      <td>2979</td>\n",
       "      <td>https://www.imdb.com/title/tt1345836/reviews/_...</td>\n",
       "    </tr>\n",
       "  </tbody>\n",
       "</table>\n",
       "</div>"
      ],
      "text/plain": [
       "                                                name  year movie_rated  \\\n",
       "0                                    The Dark Knight  2008       PG-13   \n",
       "1                                          Inception  2010       PG-13   \n",
       "2                                         The Matrix  1999           R   \n",
       "3  The Lord of the Rings: The Fellowship of the Ring  2001       PG-13   \n",
       "4                              The Dark Knight Rises  2012       PG-13   \n",
       "\n",
       "  run_length                       genres            release_date  rating  \\\n",
       "0   2h 32min       Action; Crime; Drama;       18 July 2008 (USA)     9.0   \n",
       "1   2h 28min  Action; Adventure; Sci-Fi;       16 July 2010 (USA)     8.8   \n",
       "2   2h 16min             Action; Sci-Fi;      31 March 1999 (USA)     8.7   \n",
       "3   2h 58min   Action; Adventure; Drama;   19 December 2001 (USA)     8.8   \n",
       "4   2h 44min          Action; Adventure;       20 July 2012 (USA)     8.4   \n",
       "\n",
       "   num_raters  num_reviews                                         review_url  \n",
       "0     2224522         6836  https://www.imdb.com/title/tt0468569/reviews/_...  \n",
       "1     1981675         3820  https://www.imdb.com/title/tt1375666/reviews/_...  \n",
       "2     1619761         4281  https://www.imdb.com/title/tt0133093/reviews/_...  \n",
       "3     1609165         5365  https://www.imdb.com/title/tt0120737/reviews/_...  \n",
       "4     1470329         2979  https://www.imdb.com/title/tt1345836/reviews/_...  "
      ]
     },
     "execution_count": 13,
     "metadata": {},
     "output_type": "execute_result"
    }
   ],
   "source": [
    "main_dataset.head()"
   ]
  },
  {
   "cell_type": "code",
   "execution_count": 14,
   "metadata": {},
   "outputs": [],
   "source": [
    "df = main_dataset.copy()\n"
   ]
  },
  {
   "cell_type": "code",
   "execution_count": 15,
   "metadata": {},
   "outputs": [
    {
     "data": {
      "text/plain": [
       "(1700, 10)"
      ]
     },
     "execution_count": 15,
     "metadata": {},
     "output_type": "execute_result"
    }
   ],
   "source": [
    "df.shape"
   ]
  },
  {
   "cell_type": "code",
   "execution_count": 16,
   "metadata": {},
   "outputs": [
    {
     "name": "stdout",
     "output_type": "stream",
     "text": [
      "<class 'pandas.core.frame.DataFrame'>\n",
      "RangeIndex: 1700 entries, 0 to 1699\n",
      "Data columns (total 10 columns):\n",
      " #   Column        Non-Null Count  Dtype  \n",
      "---  ------        --------------  -----  \n",
      " 0   name          1700 non-null   object \n",
      " 1   year          1700 non-null   int64  \n",
      " 2   movie_rated   1700 non-null   object \n",
      " 3   run_length    1700 non-null   object \n",
      " 4   genres        1700 non-null   object \n",
      " 5   release_date  1700 non-null   object \n",
      " 6   rating        1700 non-null   float64\n",
      " 7   num_raters    1700 non-null   int64  \n",
      " 8   num_reviews   1700 non-null   int64  \n",
      " 9   review_url    1700 non-null   object \n",
      "dtypes: float64(1), int64(3), object(6)\n",
      "memory usage: 132.9+ KB\n"
     ]
    }
   ],
   "source": [
    "df.info()"
   ]
  },
  {
   "cell_type": "code",
   "execution_count": 17,
   "metadata": {},
   "outputs": [
    {
     "data": {
      "text/plain": [
       "name            0\n",
       "year            0\n",
       "movie_rated     0\n",
       "run_length      0\n",
       "genres          0\n",
       "release_date    0\n",
       "rating          0\n",
       "num_raters      0\n",
       "num_reviews     0\n",
       "review_url      0\n",
       "dtype: int64"
      ]
     },
     "execution_count": 17,
     "metadata": {},
     "output_type": "execute_result"
    }
   ],
   "source": [
    "df.isnull().sum()"
   ]
  },
  {
   "cell_type": "code",
   "execution_count": 19,
   "metadata": {},
   "outputs": [
    {
     "data": {
      "text/plain": [
       "Index(['name', 'year', 'movie_rated', 'run_length', 'genres', 'release_date',\n",
       "       'rating', 'num_raters', 'num_reviews', 'review_url'],\n",
       "      dtype='object')"
      ]
     },
     "execution_count": 19,
     "metadata": {},
     "output_type": "execute_result"
    }
   ],
   "source": [
    "df.columns"
   ]
  },
  {
   "cell_type": "code",
   "execution_count": 20,
   "metadata": {},
   "outputs": [
    {
     "data": {
      "text/html": [
       "<div>\n",
       "<style scoped>\n",
       "    .dataframe tbody tr th:only-of-type {\n",
       "        vertical-align: middle;\n",
       "    }\n",
       "\n",
       "    .dataframe tbody tr th {\n",
       "        vertical-align: top;\n",
       "    }\n",
       "\n",
       "    .dataframe thead th {\n",
       "        text-align: right;\n",
       "    }\n",
       "</style>\n",
       "<table border=\"1\" class=\"dataframe\">\n",
       "  <thead>\n",
       "    <tr style=\"text-align: right;\">\n",
       "      <th></th>\n",
       "      <th>year</th>\n",
       "      <th>rating</th>\n",
       "      <th>num_raters</th>\n",
       "      <th>num_reviews</th>\n",
       "    </tr>\n",
       "  </thead>\n",
       "  <tbody>\n",
       "    <tr>\n",
       "      <th>count</th>\n",
       "      <td>1700.000000</td>\n",
       "      <td>1700.000000</td>\n",
       "      <td>1.700000e+03</td>\n",
       "      <td>1700.000000</td>\n",
       "    </tr>\n",
       "    <tr>\n",
       "      <th>mean</th>\n",
       "      <td>2002.798235</td>\n",
       "      <td>7.457706</td>\n",
       "      <td>4.134152e+05</td>\n",
       "      <td>1003.601176</td>\n",
       "    </tr>\n",
       "    <tr>\n",
       "      <th>std</th>\n",
       "      <td>14.359010</td>\n",
       "      <td>0.736682</td>\n",
       "      <td>3.277902e+05</td>\n",
       "      <td>1045.584805</td>\n",
       "    </tr>\n",
       "    <tr>\n",
       "      <th>min</th>\n",
       "      <td>1915.000000</td>\n",
       "      <td>3.500000</td>\n",
       "      <td>1.929000e+04</td>\n",
       "      <td>102.000000</td>\n",
       "    </tr>\n",
       "    <tr>\n",
       "      <th>25%</th>\n",
       "      <td>1999.000000</td>\n",
       "      <td>7.000000</td>\n",
       "      <td>1.812258e+05</td>\n",
       "      <td>393.750000</td>\n",
       "    </tr>\n",
       "    <tr>\n",
       "      <th>50%</th>\n",
       "      <td>2006.000000</td>\n",
       "      <td>7.600000</td>\n",
       "      <td>3.445890e+05</td>\n",
       "      <td>719.500000</td>\n",
       "    </tr>\n",
       "    <tr>\n",
       "      <th>75%</th>\n",
       "      <td>2012.000000</td>\n",
       "      <td>8.000000</td>\n",
       "      <td>5.722170e+05</td>\n",
       "      <td>1256.500000</td>\n",
       "    </tr>\n",
       "    <tr>\n",
       "      <th>max</th>\n",
       "      <td>2020.000000</td>\n",
       "      <td>9.300000</td>\n",
       "      <td>2.258845e+06</td>\n",
       "      <td>10279.000000</td>\n",
       "    </tr>\n",
       "  </tbody>\n",
       "</table>\n",
       "</div>"
      ],
      "text/plain": [
       "              year       rating    num_raters   num_reviews\n",
       "count  1700.000000  1700.000000  1.700000e+03   1700.000000\n",
       "mean   2002.798235     7.457706  4.134152e+05   1003.601176\n",
       "std      14.359010     0.736682  3.277902e+05   1045.584805\n",
       "min    1915.000000     3.500000  1.929000e+04    102.000000\n",
       "25%    1999.000000     7.000000  1.812258e+05    393.750000\n",
       "50%    2006.000000     7.600000  3.445890e+05    719.500000\n",
       "75%    2012.000000     8.000000  5.722170e+05   1256.500000\n",
       "max    2020.000000     9.300000  2.258845e+06  10279.000000"
      ]
     },
     "execution_count": 20,
     "metadata": {},
     "output_type": "execute_result"
    }
   ],
   "source": [
    "df.describe()"
   ]
  },
  {
   "cell_type": "code",
   "execution_count": null,
   "metadata": {},
   "outputs": [],
   "source": []
  },
  {
   "cell_type": "code",
   "execution_count": null,
   "metadata": {},
   "outputs": [],
   "source": []
  },
  {
   "cell_type": "code",
   "execution_count": null,
   "metadata": {},
   "outputs": [],
   "source": []
  },
  {
   "cell_type": "code",
   "execution_count": null,
   "metadata": {},
   "outputs": [],
   "source": []
  }
 ],
 "metadata": {
  "kernelspec": {
   "display_name": "Python 3",
   "language": "python",
   "name": "python3"
  },
  "language_info": {
   "codemirror_mode": {
    "name": "ipython",
    "version": 3
   },
   "file_extension": ".py",
   "mimetype": "text/x-python",
   "name": "python",
   "nbconvert_exporter": "python",
   "pygments_lexer": "ipython3",
   "version": "3.11.2"
  }
 },
 "nbformat": 4,
 "nbformat_minor": 2
}
